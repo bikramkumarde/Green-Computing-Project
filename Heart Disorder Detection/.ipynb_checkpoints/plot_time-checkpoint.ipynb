{
 "cells": [
  {
   "cell_type": "code",
   "execution_count": 1,
   "id": "828ee0c8-3f28-4336-b775-6aff306660d1",
   "metadata": {},
   "outputs": [],
   "source": [
    "import matplotlib.pyplot as plt"
   ]
  },
  {
   "cell_type": "code",
   "execution_count": 2,
   "id": "0d573e32-a773-4b44-a3d4-946cdaf0fab6",
   "metadata": {},
   "outputs": [],
   "source": [
    "cnn_time = [37.53211545944214, 43.49021363258362, 58.758530616760254, 73.88935160636902, \\\n",
    "            105.56493949890137, 206.56159806251526, 410.3728790283203, 671.3518614768982]\n",
    "lstm_time = [22.95892071723938, 21.94978952407837, 22.844595193862915, 24.322854042053223, \\\n",
    "             30.41427993774414, 49.40485858917236, 135.91570377349854, 306.44110918045044]\n",
    "rnn_time = [18.766763925552368, 21.043201684951782, 19.58688449859619, 20.19564414024353, \\\n",
    "            21.858835220336914, 24.224571228027344, 48.01574492454529, 107.3008143901825]\n",
    "units_arr = [10, 20, 30, 50, 100, 200, 500, 1000]"
   ]
  },
  {
   "cell_type": "code",
   "execution_count": null,
   "id": "be1c3e4c-b04e-4bd3-8fb9-4ffb6a79b5ff",
   "metadata": {},
   "outputs": [],
   "source": [
    "plt.plot(units_arr, time_arr, marker='o', linestyle='-')  # 'o' marker style with solid line\n",
    "plt.xlabel('Number of Units')\n",
    "plt.ylabel('Time taken (in sec)')\n",
    "plt.title('Time vs units')\n",
    "plt.grid(True)  # Add grid lines\n",
    "plt.show()"
   ]
  }
 ],
 "metadata": {
  "kernelspec": {
   "display_name": "Python 3 (ipykernel)",
   "language": "python",
   "name": "python3"
  },
  "language_info": {
   "codemirror_mode": {
    "name": "ipython",
    "version": 3
   },
   "file_extension": ".py",
   "mimetype": "text/x-python",
   "name": "python",
   "nbconvert_exporter": "python",
   "pygments_lexer": "ipython3",
   "version": "3.10.10"
  }
 },
 "nbformat": 4,
 "nbformat_minor": 5
}
